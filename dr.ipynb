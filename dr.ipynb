{
 "cells": [
  {
   "cell_type": "markdown",
   "id": "4db59bee",
   "metadata": {},
   "source": [
    "# Import Data"
   ]
  },
  {
   "cell_type": "code",
   "execution_count": 1,
   "id": "08feed25",
   "metadata": {},
   "outputs": [
    {
     "name": "stdout",
     "output_type": "stream",
     "text": [
      "/Users/siyu/Downloads\n"
     ]
    }
   ],
   "source": [
    "%cd '/Users/siyu/Downloads'\n",
    "import pandas as pd\n",
    "dr_lab=pd.read_csv(\"dr_lab.csv\")"
   ]
  },
  {
   "cell_type": "code",
   "execution_count": 2,
   "id": "9cf3b96a",
   "metadata": {},
   "outputs": [
    {
     "data": {
      "text/plain": [
       "'0             1445224\\n1             1445224\\n2             1445087\\n3             1445087\\n4             1566664\\n              ...    \\n55256065    368098637\\n55256066    368098637\\n55256067    368098637\\n55256068    368098637\\n55256069    368098637\\nName: encounter_id, Length: 55256070, dtype: int64'"
      ]
     },
     "execution_count": 2,
     "metadata": {},
     "output_type": "execute_result"
    }
   ],
   "source": [
    "str(dr_lab.encounter_id)"
   ]
  },
  {
   "cell_type": "code",
   "execution_count": 3,
   "id": "f161b800",
   "metadata": {},
   "outputs": [],
   "source": [
    "#no_dr_lab=pd.read_csv(\"no_dr_lab.csv\")\n",
    "DEncounter=pd.read_csv(\"DEncounter_reduced.csv\",delimiter = \"\\t\")\n",
    "Diagnosis=pd.read_csv(\"Diagnosis_reduced1.csv\",delimiter = \"\\t\")"
   ]
  },
  {
   "cell_type": "code",
   "execution_count": 4,
   "id": "c3e2063e",
   "metadata": {},
   "outputs": [],
   "source": [
    "DEncounter.columns=DEncounter.columns.str.lower()"
   ]
  },
  {
   "cell_type": "markdown",
   "id": "57c4dfe2",
   "metadata": {},
   "source": [
    "# Delete blank records and transform data type of certain columns"
   ]
  },
  {
   "cell_type": "code",
   "execution_count": 5,
   "id": "9d450baa",
   "metadata": {},
   "outputs": [
    {
     "data": {
      "text/plain": [
       "encounter_id            1\n",
       "patient_sk              1\n",
       "race              2466851\n",
       "gender               6791\n",
       "age_in_years      1938386\n",
       "admitted_dt_tm    1828783\n",
       "dtype: int64"
      ]
     },
     "execution_count": 5,
     "metadata": {},
     "output_type": "execute_result"
    }
   ],
   "source": [
    "DEncounter.isnull().sum()"
   ]
  },
  {
   "cell_type": "code",
   "execution_count": 6,
   "id": "37ca4b3f",
   "metadata": {},
   "outputs": [],
   "source": [
    "DEncounter.dropna(inplace=True)"
   ]
  },
  {
   "cell_type": "code",
   "execution_count": 7,
   "id": "5ff4b56f",
   "metadata": {},
   "outputs": [],
   "source": [
    "DEncounter.encounter_id=DEncounter.encounter_id.astype(int)\n",
    "DEncounter.patient_sk=DEncounter.patient_sk.astype(int)"
   ]
  },
  {
   "cell_type": "code",
   "execution_count": 8,
   "id": "789f7db8",
   "metadata": {},
   "outputs": [],
   "source": [
    "Diagnosis.columns=Diagnosis.columns.str.lower()"
   ]
  },
  {
   "cell_type": "code",
   "execution_count": 9,
   "id": "7919fecb",
   "metadata": {},
   "outputs": [],
   "source": [
    "Diagnosis.dropna(inplace=True)"
   ]
  },
  {
   "cell_type": "code",
   "execution_count": 10,
   "id": "053ef0ea",
   "metadata": {},
   "outputs": [],
   "source": [
    "Diagnosis.encounter_id=Diagnosis.encounter_id.astype(int)\n",
    "Diagnosis.diagnosis_priority=Diagnosis.diagnosis_priority.astype(int)"
   ]
  },
  {
   "cell_type": "markdown",
   "id": "8d195b7d",
   "metadata": {},
   "source": [
    "# Find all the DR dignosis encounter then locate all the target patients"
   ]
  },
  {
   "cell_type": "code",
   "execution_count": 11,
   "id": "5b4f719d",
   "metadata": {},
   "outputs": [],
   "source": [
    "Diagnosis_target=Diagnosis[Diagnosis.diagnosis_code.isin([\"362.0\", \"362.01\", \"362.02\", \"362.03\", \"362.04\", \"362.05\", \"362.06\",\n",
    "                                                         \"E11.311\", \"E11.319\", \"E11.3211\", \"E11.3212\", \"E11.3213\", \"E11.3219\", \n",
    "                                                          \"E11.3291\", \"E11.3293\", \"E11.3299\", \"E11.3311\", \"E11.3312\", \"E11.3313\", \n",
    "                                                          \"E11.3319\", \"E11.3391\", \"E11.3392\", \"E11.3393\", \"E11.3399\", \"E11.3411\", \n",
    "                                                          \"E11.3412\", \"E11.3413\", \"E11.3419\", \"E11.3491\", \"E11.3492\", \"E11.3493\",\n",
    "                                                          \"E11.3499\", \"E11.3511\", \"E11.3512\", \"E11.3513\", \"E11.3519\", \"E11.3521\", \n",
    "                                                          \"E11.3522\", \"E11.3523\", \"E11.3529\", \"E11.3531\", \"E11.3532\", \n",
    "                                                          \"E11.3533\", \"E11.3539\", \"E11.3541\", \"E11.3542\", \"E11.3543\", \"E11.3549\", \n",
    "                                                          \"E11.3551\", \"E11.3552\", \"E11.3553\", \"E11.3559\", \"E11.3591\", \"E11.3592\", \n",
    "                                                          \"E11.3593\", \"E11.3599\", \"E10.311\", \"E10.319\", \"E10.3211\", \"E10.3212\", \n",
    "                                                          \"E10.3213\", \"E10.3219\", \"E10.3291\", \"E10.3293\", \"E10.3299\", \"E10.3311\", \n",
    "                                                          \"E10.3312\", \"E10.3313\", \"E10.3319\", \"E10.3392\", \"E10.3393\", \"E10.3399\", \n",
    "                                                          \"E10.3411\", \"E10.3412\", \"E10.3419\", \"E10.3491\", \"E10.3492\", \"E10.3493\", \n",
    "                                                          \"E10.3499\", \"E10.3511\", \"E10.3512\", \"E10.3513\", \"E10.3519\", \"E10.3521\", \n",
    "                                                          \"E10.3522\", \"E10.3523\", \"E10.3529\", \"E10.3531\", \"E10.3532\", \"E10.3533\", \n",
    "                                                          \"E10.3539\", \"E10.3541\", \"E10.3542\", \"E10.3543\", \"E10.3549\", \"E10.3551\", \n",
    "                                                          \"E10.3552\", \"E10.3553\", \"E10.3559\", \"E10.3591\", \"E10.3592\", \"E10.3593\", \n",
    "                                                          \"E10.3599\"])]"
   ]
  },
  {
   "cell_type": "code",
   "execution_count": 12,
   "id": "4b09cdb0",
   "metadata": {},
   "outputs": [],
   "source": [
    "new=dr_lab.encounter_id.isin(Diagnosis_target.encounter_id.unique())\n",
    "target_patient_key=dr_lab[new].patient_sk.unique()\n",
    "patient_new=dr_lab.patient_sk.isin(target_patient_key)\n",
    "dr_patient_new=dr_lab[patient_new]"
   ]
  },
  {
   "cell_type": "markdown",
   "id": "7150978f",
   "metadata": {},
   "source": [
    "## Create a new variable to indicate whether patient is diagnosed as DR during that encounter "
   ]
  },
  {
   "cell_type": "code",
   "execution_count": 13,
   "id": "bcb3bc99",
   "metadata": {},
   "outputs": [
    {
     "name": "stderr",
     "output_type": "stream",
     "text": [
      "/var/folders/2n/wy2j47ss1lb443rj3f6dmkzw0000gn/T/ipykernel_6950/3310620989.py:1: SettingWithCopyWarning: \n",
      "A value is trying to be set on a copy of a slice from a DataFrame.\n",
      "Try using .loc[row_indexer,col_indexer] = value instead\n",
      "\n",
      "See the caveats in the documentation: https://pandas.pydata.org/pandas-docs/stable/user_guide/indexing.html#returning-a-view-versus-a-copy\n",
      "  dr_patient_new['dr_encounter']=dr_patient_new.encounter_id.isin(Diagnosis_target.encounter_id.unique())\n",
      "/Users/siyu/opt/anaconda3/lib/python3.8/site-packages/pandas/core/generic.py:5516: SettingWithCopyWarning: \n",
      "A value is trying to be set on a copy of a slice from a DataFrame.\n",
      "Try using .loc[row_indexer,col_indexer] = value instead\n",
      "\n",
      "See the caveats in the documentation: https://pandas.pydata.org/pandas-docs/stable/user_guide/indexing.html#returning-a-view-versus-a-copy\n",
      "  self[name] = value\n"
     ]
    }
   ],
   "source": [
    "dr_patient_new['dr_encounter']=dr_patient_new.encounter_id.isin(Diagnosis_target.encounter_id.unique())\n",
    "dr_patient_new.dr_encounter=dr_patient_new.dr_encounter.astype(int)"
   ]
  },
  {
   "cell_type": "markdown",
   "id": "fe3acb12",
   "metadata": {},
   "source": [
    "## Merge dr patient lab results and demographic information"
   ]
  },
  {
   "cell_type": "code",
   "execution_count": 14,
   "id": "903ee770",
   "metadata": {},
   "outputs": [],
   "source": [
    "dr_sort=dr_patient_new.sort_values(by='lab_verified_dt_tm')"
   ]
  },
  {
   "cell_type": "code",
   "execution_count": 15,
   "id": "aec0bf64",
   "metadata": {},
   "outputs": [],
   "source": [
    "dr=pd.merge(dr_sort,DEncounter,how=\"left\",on=\"encounter_id\")"
   ]
  },
  {
   "cell_type": "code",
   "execution_count": 16,
   "id": "9ea10103",
   "metadata": {},
   "outputs": [],
   "source": [
    "dr.drop(columns='patient_sk_y',inplace=True)"
   ]
  },
  {
   "cell_type": "code",
   "execution_count": 17,
   "id": "7c7fda57",
   "metadata": {},
   "outputs": [],
   "source": [
    "dr.rename(columns={\"patient_sk_x\": \"patient_sk\"},inplace=True)"
   ]
  },
  {
   "cell_type": "markdown",
   "id": "2632520a",
   "metadata": {},
   "source": [
    "# Creatinine data construction"
   ]
  },
  {
   "cell_type": "code",
   "execution_count": 18,
   "id": "2c4a5faa",
   "metadata": {},
   "outputs": [],
   "source": [
    "dr_creat=dr[dr[\"lab_procedure_name\"]=='Creatinine, Serum Quantitative']\n",
    "dr_creat=dr_creat.sort_values(by=['patient_sk','lab_verified_dt_tm']).dropna()\n",
    "dr_creat_prep=dr_creat.groupby(\"encounter_id\").first().sort_values(by=['patient_sk','lab_verified_dt_tm']).reset_index()\n",
    "dr_creat_mean=dr_creat.groupby('encounter_id').mean()\n",
    "dr_creat_final=dr_creat_prep.merge(dr_creat_mean,how='left',on='encounter_id').drop(columns=['numeric_result_x','patient_sk_y','dr_encounter_y','age_in_years_y'])\n",
    "dr_creat_final.rename(columns={'patient_sk_x':'patient_sk','dr_encounter_x':'dr_encounter','age_in_years_x':'age_in_years','numeric_result_y':'numeric_result'},inplace=True)"
   ]
  },
  {
   "cell_type": "markdown",
   "id": "561e6200",
   "metadata": {},
   "source": [
    "## Select all the information before and including the first DR diagnosis encounter"
   ]
  },
  {
   "cell_type": "code",
   "execution_count": 19,
   "id": "dab4c917",
   "metadata": {},
   "outputs": [],
   "source": [
    "df_creat=pd.DataFrame()\n",
    "for key in dr_creat_final.patient_sk.unique():\n",
    "    if ((len(dr_creat_final[dr_creat_final.patient_sk==key].encounter_id.unique())>=3) and (dr_creat_final[dr_creat_final.patient_sk==key].dr_encounter.sum()>0)) :\n",
    "        en_id=dr_creat_final[(dr_creat_final.patient_sk==key)&(dr_creat_final.dr_encounter==True)].iloc[0][\"encounter_id\"]\n",
    "        time=dr_creat_final[dr_creat_final.encounter_id==en_id].lab_verified_dt_tm.max()\n",
    "        df_patient=dr_creat_final[(dr_creat_final.patient_sk==key)&(dr_creat_final.lab_verified_dt_tm<=time)]\n",
    "        df_creat=df_creat.append(df_patient,ignore_index=True)"
   ]
  },
  {
   "cell_type": "markdown",
   "id": "efde2241",
   "metadata": {},
   "source": [
    "## Find all patients who have at least 4 encounters including the first DR diagnosis encounter and keep the last 4 encounters' informatioin"
   ]
  },
  {
   "cell_type": "code",
   "execution_count": 39,
   "id": "57d12b47",
   "metadata": {},
   "outputs": [],
   "source": [
    "countdf =df_creat.groupby('patient_sk').count()\n",
    "df_creat_final = df_creat.loc[df_creat['patient_sk'].isin(countdf[countdf['encounter_id'] > 3].index)]"
   ]
  },
  {
   "cell_type": "code",
   "execution_count": 40,
   "id": "bca9b915",
   "metadata": {},
   "outputs": [
    {
     "data": {
      "text/html": [
       "<div>\n",
       "<style scoped>\n",
       "    .dataframe tbody tr th:only-of-type {\n",
       "        vertical-align: middle;\n",
       "    }\n",
       "\n",
       "    .dataframe tbody tr th {\n",
       "        vertical-align: top;\n",
       "    }\n",
       "\n",
       "    .dataframe thead th {\n",
       "        text-align: right;\n",
       "    }\n",
       "</style>\n",
       "<table border=\"1\" class=\"dataframe\">\n",
       "  <thead>\n",
       "    <tr style=\"text-align: right;\">\n",
       "      <th></th>\n",
       "      <th>encounter_id</th>\n",
       "      <th>patient_sk</th>\n",
       "      <th>lab_procedure_name</th>\n",
       "      <th>unit</th>\n",
       "      <th>lab_verified_dt_tm</th>\n",
       "      <th>dr_encounter</th>\n",
       "      <th>race</th>\n",
       "      <th>gender</th>\n",
       "      <th>age_in_years</th>\n",
       "      <th>admitted_dt_tm</th>\n",
       "      <th>numeric_result</th>\n",
       "    </tr>\n",
       "  </thead>\n",
       "  <tbody>\n",
       "    <tr>\n",
       "      <th>0</th>\n",
       "      <td>242007621</td>\n",
       "      <td>40184</td>\n",
       "      <td>Creatinine, Serum Quantitative</td>\n",
       "      <td>mg/dL</td>\n",
       "      <td>2011-04-18 15:25:00.0000000</td>\n",
       "      <td>0</td>\n",
       "      <td>Caucasian</td>\n",
       "      <td>Male</td>\n",
       "      <td>52.0</td>\n",
       "      <td>2011-09-23 08:41:00.0000000</td>\n",
       "      <td>0.70</td>\n",
       "    </tr>\n",
       "    <tr>\n",
       "      <th>1</th>\n",
       "      <td>234836515</td>\n",
       "      <td>40184</td>\n",
       "      <td>Creatinine, Serum Quantitative</td>\n",
       "      <td>mg/dL</td>\n",
       "      <td>2012-03-01 20:02:00.0000000</td>\n",
       "      <td>0</td>\n",
       "      <td>Caucasian</td>\n",
       "      <td>Male</td>\n",
       "      <td>52.0</td>\n",
       "      <td>2011-12-07 11:01:00.0000000</td>\n",
       "      <td>1.70</td>\n",
       "    </tr>\n",
       "    <tr>\n",
       "      <th>2</th>\n",
       "      <td>241488258</td>\n",
       "      <td>40184</td>\n",
       "      <td>Creatinine, Serum Quantitative</td>\n",
       "      <td>mg/dL</td>\n",
       "      <td>2012-03-13 08:22:00.0000000</td>\n",
       "      <td>0</td>\n",
       "      <td>Caucasian</td>\n",
       "      <td>Male</td>\n",
       "      <td>53.0</td>\n",
       "      <td>2012-03-13 06:13:00.0000000</td>\n",
       "      <td>1.60</td>\n",
       "    </tr>\n",
       "    <tr>\n",
       "      <th>3</th>\n",
       "      <td>242047104</td>\n",
       "      <td>40184</td>\n",
       "      <td>Creatinine, Serum Quantitative</td>\n",
       "      <td>mg/dL</td>\n",
       "      <td>2012-03-24 00:11:00.0000000</td>\n",
       "      <td>0</td>\n",
       "      <td>Caucasian</td>\n",
       "      <td>Male</td>\n",
       "      <td>52.0</td>\n",
       "      <td>2011-09-21 11:28:00.0000000</td>\n",
       "      <td>0.90</td>\n",
       "    </tr>\n",
       "    <tr>\n",
       "      <th>4</th>\n",
       "      <td>241110926</td>\n",
       "      <td>40184</td>\n",
       "      <td>Creatinine, Serum Quantitative</td>\n",
       "      <td>mg/dL</td>\n",
       "      <td>2012-04-13 08:49:00.0000000</td>\n",
       "      <td>0</td>\n",
       "      <td>Caucasian</td>\n",
       "      <td>Male</td>\n",
       "      <td>53.0</td>\n",
       "      <td>2012-04-05 08:59:00.0000000</td>\n",
       "      <td>2.20</td>\n",
       "    </tr>\n",
       "    <tr>\n",
       "      <th>...</th>\n",
       "      <td>...</td>\n",
       "      <td>...</td>\n",
       "      <td>...</td>\n",
       "      <td>...</td>\n",
       "      <td>...</td>\n",
       "      <td>...</td>\n",
       "      <td>...</td>\n",
       "      <td>...</td>\n",
       "      <td>...</td>\n",
       "      <td>...</td>\n",
       "      <td>...</td>\n",
       "    </tr>\n",
       "    <tr>\n",
       "      <th>161908</th>\n",
       "      <td>445096412</td>\n",
       "      <td>104656321</td>\n",
       "      <td>Creatinine, Serum Quantitative</td>\n",
       "      <td>mg/dL</td>\n",
       "      <td>2015-06-22 04:38:00.0000000</td>\n",
       "      <td>1</td>\n",
       "      <td>Caucasian</td>\n",
       "      <td>Male</td>\n",
       "      <td>48.0</td>\n",
       "      <td>2015-06-15 12:47:00.0000000</td>\n",
       "      <td>5.00</td>\n",
       "    </tr>\n",
       "    <tr>\n",
       "      <th>161923</th>\n",
       "      <td>444412882</td>\n",
       "      <td>104700366</td>\n",
       "      <td>Creatinine, Serum Quantitative</td>\n",
       "      <td>mg/dL</td>\n",
       "      <td>2015-04-02 05:38:00.0000000</td>\n",
       "      <td>0</td>\n",
       "      <td>African American</td>\n",
       "      <td>Female</td>\n",
       "      <td>53.0</td>\n",
       "      <td>2015-03-30 01:10:00.0000000</td>\n",
       "      <td>3.29</td>\n",
       "    </tr>\n",
       "    <tr>\n",
       "      <th>161924</th>\n",
       "      <td>444676159</td>\n",
       "      <td>104700366</td>\n",
       "      <td>Creatinine, Serum Quantitative</td>\n",
       "      <td>mg/dL</td>\n",
       "      <td>2015-04-15 04:49:00.0000000</td>\n",
       "      <td>0</td>\n",
       "      <td>African American</td>\n",
       "      <td>Female</td>\n",
       "      <td>53.0</td>\n",
       "      <td>2015-04-08 19:26:00.0000000</td>\n",
       "      <td>2.27</td>\n",
       "    </tr>\n",
       "    <tr>\n",
       "      <th>161925</th>\n",
       "      <td>444820403</td>\n",
       "      <td>104700366</td>\n",
       "      <td>Creatinine, Serum Quantitative</td>\n",
       "      <td>mg/dL</td>\n",
       "      <td>2015-05-15 13:32:00.0000000</td>\n",
       "      <td>0</td>\n",
       "      <td>Caucasian</td>\n",
       "      <td>Female</td>\n",
       "      <td>53.0</td>\n",
       "      <td>2015-05-15 12:53:00.0000000</td>\n",
       "      <td>2.69</td>\n",
       "    </tr>\n",
       "    <tr>\n",
       "      <th>161926</th>\n",
       "      <td>445096136</td>\n",
       "      <td>104700366</td>\n",
       "      <td>Creatinine, Serum Quantitative</td>\n",
       "      <td>mg/dL</td>\n",
       "      <td>2015-06-22 03:37:00.0000000</td>\n",
       "      <td>1</td>\n",
       "      <td>African American</td>\n",
       "      <td>Female</td>\n",
       "      <td>53.0</td>\n",
       "      <td>2015-06-21 00:15:00.0000000</td>\n",
       "      <td>2.50</td>\n",
       "    </tr>\n",
       "  </tbody>\n",
       "</table>\n",
       "<p>145530 rows × 11 columns</p>\n",
       "</div>"
      ],
      "text/plain": [
       "        encounter_id  patient_sk              lab_procedure_name   unit  \\\n",
       "0          242007621       40184  Creatinine, Serum Quantitative  mg/dL   \n",
       "1          234836515       40184  Creatinine, Serum Quantitative  mg/dL   \n",
       "2          241488258       40184  Creatinine, Serum Quantitative  mg/dL   \n",
       "3          242047104       40184  Creatinine, Serum Quantitative  mg/dL   \n",
       "4          241110926       40184  Creatinine, Serum Quantitative  mg/dL   \n",
       "...              ...         ...                             ...    ...   \n",
       "161908     445096412   104656321  Creatinine, Serum Quantitative  mg/dL   \n",
       "161923     444412882   104700366  Creatinine, Serum Quantitative  mg/dL   \n",
       "161924     444676159   104700366  Creatinine, Serum Quantitative  mg/dL   \n",
       "161925     444820403   104700366  Creatinine, Serum Quantitative  mg/dL   \n",
       "161926     445096136   104700366  Creatinine, Serum Quantitative  mg/dL   \n",
       "\n",
       "                 lab_verified_dt_tm  dr_encounter              race  gender  \\\n",
       "0       2011-04-18 15:25:00.0000000             0         Caucasian    Male   \n",
       "1       2012-03-01 20:02:00.0000000             0         Caucasian    Male   \n",
       "2       2012-03-13 08:22:00.0000000             0         Caucasian    Male   \n",
       "3       2012-03-24 00:11:00.0000000             0         Caucasian    Male   \n",
       "4       2012-04-13 08:49:00.0000000             0         Caucasian    Male   \n",
       "...                             ...           ...               ...     ...   \n",
       "161908  2015-06-22 04:38:00.0000000             1         Caucasian    Male   \n",
       "161923  2015-04-02 05:38:00.0000000             0  African American  Female   \n",
       "161924  2015-04-15 04:49:00.0000000             0  African American  Female   \n",
       "161925  2015-05-15 13:32:00.0000000             0         Caucasian  Female   \n",
       "161926  2015-06-22 03:37:00.0000000             1  African American  Female   \n",
       "\n",
       "        age_in_years               admitted_dt_tm  numeric_result  \n",
       "0               52.0  2011-09-23 08:41:00.0000000            0.70  \n",
       "1               52.0  2011-12-07 11:01:00.0000000            1.70  \n",
       "2               53.0  2012-03-13 06:13:00.0000000            1.60  \n",
       "3               52.0  2011-09-21 11:28:00.0000000            0.90  \n",
       "4               53.0  2012-04-05 08:59:00.0000000            2.20  \n",
       "...              ...                          ...             ...  \n",
       "161908          48.0  2015-06-15 12:47:00.0000000            5.00  \n",
       "161923          53.0  2015-03-30 01:10:00.0000000            3.29  \n",
       "161924          53.0  2015-04-08 19:26:00.0000000            2.27  \n",
       "161925          53.0  2015-05-15 12:53:00.0000000            2.69  \n",
       "161926          53.0  2015-06-21 00:15:00.0000000            2.50  \n",
       "\n",
       "[145530 rows x 11 columns]"
      ]
     },
     "execution_count": 40,
     "metadata": {},
     "output_type": "execute_result"
    }
   ],
   "source": [
    "df_creat_final"
   ]
  },
  {
   "cell_type": "markdown",
   "id": "07007c49",
   "metadata": {},
   "source": [
    "## Create a variable indicate the encounter order for each patient and using the mean of numeric result instead of the first measurement in each encounter to reduce measurement errors"
   ]
  },
  {
   "cell_type": "code",
   "execution_count": 41,
   "id": "1150fd35",
   "metadata": {},
   "outputs": [],
   "source": [
    "df_creat_final=df_creat_final.reset_index()"
   ]
  },
  {
   "cell_type": "code",
   "execution_count": 42,
   "id": "8d8def33",
   "metadata": {},
   "outputs": [],
   "source": [
    "df_creat_lt=df_creat_final.groupby('patient_sk').lab_verified_dt_tm.max().reset_index()"
   ]
  },
  {
   "cell_type": "code",
   "execution_count": 43,
   "id": "c77daec9",
   "metadata": {},
   "outputs": [],
   "source": [
    "df_creat_lt=df_creat_lt.rename(columns={'lab_verified_dt_tm':'last_time'})"
   ]
  },
  {
   "cell_type": "code",
   "execution_count": 44,
   "id": "3d875a87",
   "metadata": {},
   "outputs": [],
   "source": [
    "df_creat_merge=df_creat_final.merge(df_creat_lt,how='left',on='patient_sk')"
   ]
  },
  {
   "cell_type": "code",
   "execution_count": 48,
   "id": "1df034b8",
   "metadata": {},
   "outputs": [],
   "source": [
    "df_creat_final=df_creat_merge.drop(columns='index')"
   ]
  },
  {
   "cell_type": "markdown",
   "id": "baaa30f6",
   "metadata": {},
   "source": [
    "## In order to use reverse alignment method, we need to let last encounter as time origin and calculate the time difference from origin."
   ]
  },
  {
   "cell_type": "code",
   "execution_count": 52,
   "id": "7587f16a",
   "metadata": {},
   "outputs": [],
   "source": [
    "df_creat_final['lab_verified_dt_tm']=pd.to_datetime(df_creat_final['lab_verified_dt_tm'])\n",
    "df_creat_final['last_time']=pd.to_datetime(df_creat_final['last_time'])\n",
    "df_creat_final['time_diff']=-(df_creat_final['last_time']-df_creat_final['lab_verified_dt_tm']).dt.days\n",
    "df_creat_final['patient_sk']=df_creat_final.patient_sk.astype(str)"
   ]
  },
  {
   "cell_type": "code",
   "execution_count": 87,
   "id": "0d742226",
   "metadata": {},
   "outputs": [],
   "source": [
    "df_creat_final=df_creat_final[df_creat_final.patient_sk.isin(df_creat_final[df_creat_final['unit']=='mg/dL']['patient_sk'].unique())]"
   ]
  },
  {
   "cell_type": "markdown",
   "id": "2c1296c0",
   "metadata": {},
   "source": [
    "## Draw line plot to see the trend for each patient and a lmplot to observe the overall trend."
   ]
  },
  {
   "cell_type": "code",
   "execution_count": 88,
   "id": "83c51438",
   "metadata": {},
   "outputs": [
    {
     "data": {
      "text/plain": [
       "<AxesSubplot:xlabel='time_diff', ylabel='numeric_result'>"
      ]
     },
     "execution_count": 88,
     "metadata": {},
     "output_type": "execute_result"
    },
    {
     "data": {
      "image/png": "[encoded data removed]",
      "text/plain": [
       "<Figure size 432x288 with 1 Axes>"
      ]
     },
     "metadata": {
      "needs_background": "light"
     },
     "output_type": "display_data"
    }
   ],
   "source": [
    "import seaborn as sns\n",
    "sample_data=df_creat_final[df_creat_final.patient_sk.isin(df_creat_final.patient_sk.unique()[0:4])][['patient_sk','numeric_result','time_diff']]\n",
    "sns.lineplot(data=sample_data, x=\"time_diff\", y=\"numeric_result\", hue=\"patient_sk\",legend=False)"
   ]
  },
  {
   "cell_type": "code",
   "execution_count": 96,
   "id": "e261d547",
   "metadata": {},
   "outputs": [
    {
     "data": {
      "text/plain": [
       "<AxesSubplot:xlabel='time_diff', ylabel='numeric_result'>"
      ]
     },
     "execution_count": 96,
     "metadata": {},
     "output_type": "execute_result"
    },
    {
     "data": {
      "image/png": "[encoded data removed]",
      "text/plain": [
       "<Figure size 432x288 with 1 Axes>"
      ]
     },
     "metadata": {
      "needs_background": "light"
     },
     "output_type": "display_data"
    }
   ],
   "source": [
    "sns.scatterplot(data=df_creat_final,x=\"time_diff\", y=\"numeric_result\")"
   ]
  },
  {
   "cell_type": "code",
   "execution_count": 89,
   "id": "90bd1ce3",
   "metadata": {},
   "outputs": [
    {
     "data": {
      "text/plain": [
       "<seaborn.axisgrid.FacetGrid at 0x7f77bcc1a2b0>"
      ]
     },
     "execution_count": 89,
     "metadata": {},
     "output_type": "execute_result"
    },
    {
     "data": {
      "image/png": "[encoded data removed]",
      "text/plain": [
       "<Figure size 360x360 with 1 Axes>"
      ]
     },
     "metadata": {
      "needs_background": "light"
     },
     "output_type": "display_data"
    }
   ],
   "source": [
    "g1=sns.lmplot(data=df_creat_final,x=\"time_diff\", y=\"numeric_result\",lowess=True,line_kws={\"color\":\"red\"})\n",
    "g1.set(xlim=(-1000,0),ylim=(0,20))"
   ]
  },
  {
   "cell_type": "code",
   "execution_count": 91,
   "id": "56d4ddc5",
   "metadata": {},
   "outputs": [
    {
     "data": {
      "text/plain": [
       "145014"
      ]
     },
     "execution_count": 91,
     "metadata": {},
     "output_type": "execute_result"
    }
   ],
   "source": [
    "len(df_creat_final)"
   ]
  },
  {
   "cell_type": "markdown",
   "id": "2f8749f8",
   "metadata": {},
   "source": [
    "# HbA1C data"
   ]
  },
  {
   "cell_type": "code",
   "execution_count": 63,
   "id": "3f100db1",
   "metadata": {},
   "outputs": [],
   "source": [
    "dr_HbA1C=dr[dr[\"lab_procedure_name\"]=='Hemoglobin A1C (Glycosylated Hemoglobin)']\n",
    "dr_HbA1C=dr_HbA1C.sort_values(by=['patient_sk','lab_verified_dt_tm']).dropna()\n",
    "dr_HbA1C=dr_HbA1C[dr_HbA1C['unit']==\"%\"]\n",
    "dr_HbA1C_prep=dr_HbA1C.groupby(\"encounter_id\").first().sort_values(by=['patient_sk','lab_verified_dt_tm']).reset_index()\n",
    "dr_HbA1C_mean=dr_HbA1C.groupby('encounter_id').mean()\n",
    "dr_HbA1C_final=dr_HbA1C_prep.merge(dr_HbA1C_mean,how='left',on='encounter_id').drop(columns=['numeric_result_x','patient_sk_y','dr_encounter_y','age_in_years_y'])\n",
    "dr_HbA1C_final.rename(columns={'patient_sk_x':'patient_sk','dr_encounter_x':'dr_encounter','age_in_years_x':'age_in_years','numeric_result_y':'numeric_result'},inplace=True)"
   ]
  },
  {
   "cell_type": "code",
   "execution_count": 64,
   "id": "ca8ef6af",
   "metadata": {},
   "outputs": [],
   "source": [
    "df_HbA1C=pd.DataFrame()\n",
    "for key in dr_HbA1C.patient_sk.unique():\n",
    "    if ((len(dr_HbA1C[dr_HbA1C.patient_sk==key].encounter_id.unique())>=3) and (dr_HbA1C[dr_HbA1C.patient_sk==key].dr_encounter.sum()>0)) :\n",
    "        en_id=dr_HbA1C[(dr_HbA1C.patient_sk==key)&(dr_HbA1C.dr_encounter==True)].iloc[0][\"encounter_id\"]\n",
    "        time=dr_HbA1C[dr_HbA1C.encounter_id==en_id].lab_verified_dt_tm.max()\n",
    "        df_patient=dr_HbA1C[(dr_HbA1C.patient_sk==key)&(dr_HbA1C.lab_verified_dt_tm<=time)]\n",
    "        df_HbA1C=df_HbA1C.append(df_patient,ignore_index=True)"
   ]
  },
  {
   "cell_type": "code",
   "execution_count": 65,
   "id": "71ecc916",
   "metadata": {},
   "outputs": [],
   "source": [
    "countdf =df_HbA1C.groupby('patient_sk').count()\n",
    "df_HbA1C_final = df_HbA1C.loc[df_HbA1C['patient_sk'].isin(countdf[countdf['encounter_id'] > 3].index)]"
   ]
  },
  {
   "cell_type": "code",
   "execution_count": 66,
   "id": "81d013dc",
   "metadata": {},
   "outputs": [],
   "source": [
    "df_HbA1C_final=df_HbA1C_final.reset_index()\n",
    "df_HbA1C_lt=df_HbA1C_final.groupby('patient_sk').lab_verified_dt_tm.max().reset_index()\n",
    "df_HbA1C_lt=df_HbA1C_lt.rename(columns={'lab_verified_dt_tm':'last_time'})\n",
    "df_HbA1C_merge=df_HbA1C_final.merge(df_HbA1C_lt,how='left',on='patient_sk')\n",
    "df_HbA1C_final=df_HbA1C_merge.drop(columns='index')"
   ]
  },
  {
   "cell_type": "code",
   "execution_count": 67,
   "id": "57753bbb",
   "metadata": {},
   "outputs": [],
   "source": [
    "df_HbA1C_final['lab_verified_dt_tm']=pd.to_datetime(df_HbA1C_final['lab_verified_dt_tm'])\n",
    "df_HbA1C_final['last_time']=pd.to_datetime(df_HbA1C_final['last_time'])\n",
    "df_HbA1C_final['time_diff']=-(df_HbA1C_final['last_time']-df_HbA1C_final['lab_verified_dt_tm']).dt.days\n",
    "df_HbA1C_final['patient_sk']=df_HbA1C_final.patient_sk.astype(str)"
   ]
  },
  {
   "cell_type": "code",
   "execution_count": 71,
   "id": "e87342ce",
   "metadata": {},
   "outputs": [
    {
     "data": {
      "text/plain": [
       "<AxesSubplot:xlabel='time_diff', ylabel='numeric_result'>"
      ]
     },
     "execution_count": 71,
     "metadata": {},
     "output_type": "execute_result"
    },
    {
     "data": {
      "image/png": "[encoded data removed]",
      "text/plain": [
       "<Figure size 432x288 with 1 Axes>"
      ]
     },
     "metadata": {
      "needs_background": "light"
     },
     "output_type": "display_data"
    }
   ],
   "source": [
    "sample_data_1=df_HbA1C_final[df_HbA1C_final.patient_sk.isin(df_HbA1C_final.patient_sk.unique()[4:8])][['patient_sk','numeric_result','time_diff']]\n",
    "sns.lineplot(data=sample_data_1, x=\"time_diff\", y=\"numeric_result\", hue=\"patient_sk\",legend=False)"
   ]
  },
  {
   "cell_type": "code",
   "execution_count": 69,
   "id": "258eeaf4",
   "metadata": {},
   "outputs": [
    {
     "data": {
      "text/plain": [
       "<AxesSubplot:xlabel='time_diff', ylabel='numeric_result'>"
      ]
     },
     "execution_count": 69,
     "metadata": {},
     "output_type": "execute_result"
    },
    {
     "data": {
      "image/png": "[encoded data removed]",
      "text/plain": [
       "<Figure size 432x288 with 1 Axes>"
      ]
     },
     "metadata": {
      "needs_background": "light"
     },
     "output_type": "display_data"
    }
   ],
   "source": [
    "sns.scatterplot(data=df_HbA1C_final,x=\"time_diff\", y=\"numeric_result\")"
   ]
  },
  {
   "cell_type": "code",
   "execution_count": 70,
   "id": "2bd79424",
   "metadata": {},
   "outputs": [
    {
     "data": {
      "text/plain": [
       "<seaborn.axisgrid.FacetGrid at 0x7f77c1c6e280>"
      ]
     },
     "execution_count": 70,
     "metadata": {},
     "output_type": "execute_result"
    },
    {
     "data": {
      "image/png": "[encoded data removed]",
      "text/plain": [
       "<Figure size 360x360 with 1 Axes>"
      ]
     },
     "metadata": {
      "needs_background": "light"
     },
     "output_type": "display_data"
    }
   ],
   "source": [
    "g2=sns.lmplot(data=df_HbA1C_final,x=\"time_diff\", y=\"numeric_result\",lowess=True,line_kws={\"color\":\"red\"})\n",
    "g2"
   ]
  },
  {
   "cell_type": "code",
   "execution_count": 82,
   "id": "7ebc82bf",
   "metadata": {},
   "outputs": [
    {
     "data": {
      "text/html": [
       "<div>\n",
       "<style scoped>\n",
       "    .dataframe tbody tr th:only-of-type {\n",
       "        vertical-align: middle;\n",
       "    }\n",
       "\n",
       "    .dataframe tbody tr th {\n",
       "        vertical-align: top;\n",
       "    }\n",
       "\n",
       "    .dataframe thead th {\n",
       "        text-align: right;\n",
       "    }\n",
       "</style>\n",
       "<table border=\"1\" class=\"dataframe\">\n",
       "  <thead>\n",
       "    <tr style=\"text-align: right;\">\n",
       "      <th></th>\n",
       "      <th>encounter_id</th>\n",
       "      <th>patient_sk</th>\n",
       "      <th>lab_procedure_name</th>\n",
       "      <th>numeric_result</th>\n",
       "      <th>unit</th>\n",
       "      <th>lab_verified_dt_tm</th>\n",
       "      <th>dr_encounter</th>\n",
       "      <th>race</th>\n",
       "      <th>gender</th>\n",
       "      <th>age_in_years</th>\n",
       "      <th>admitted_dt_tm</th>\n",
       "      <th>last_time</th>\n",
       "      <th>time_diff</th>\n",
       "    </tr>\n",
       "  </thead>\n",
       "  <tbody>\n",
       "    <tr>\n",
       "      <th>0</th>\n",
       "      <td>234836515</td>\n",
       "      <td>40184</td>\n",
       "      <td>Hemoglobin A1C (Glycosylated Hemoglobin)</td>\n",
       "      <td>8.2</td>\n",
       "      <td>%</td>\n",
       "      <td>2012-03-01 20:12:00</td>\n",
       "      <td>0</td>\n",
       "      <td>Caucasian</td>\n",
       "      <td>Male</td>\n",
       "      <td>52.0</td>\n",
       "      <td>2011-12-07 11:01:00.0000000</td>\n",
       "      <td>2014-12-19 13:03:00</td>\n",
       "      <td>-1022</td>\n",
       "    </tr>\n",
       "    <tr>\n",
       "      <th>1</th>\n",
       "      <td>234836515</td>\n",
       "      <td>40184</td>\n",
       "      <td>Hemoglobin A1C (Glycosylated Hemoglobin)</td>\n",
       "      <td>8.2</td>\n",
       "      <td>%</td>\n",
       "      <td>2012-03-01 20:12:00</td>\n",
       "      <td>0</td>\n",
       "      <td>Caucasian</td>\n",
       "      <td>Male</td>\n",
       "      <td>52.0</td>\n",
       "      <td>2011-12-07 11:01:00.0000000</td>\n",
       "      <td>2014-12-19 13:03:00</td>\n",
       "      <td>-1022</td>\n",
       "    </tr>\n",
       "    <tr>\n",
       "      <th>2</th>\n",
       "      <td>234826139</td>\n",
       "      <td>40184</td>\n",
       "      <td>Hemoglobin A1C (Glycosylated Hemoglobin)</td>\n",
       "      <td>7.6</td>\n",
       "      <td>%</td>\n",
       "      <td>2012-05-02 16:44:00</td>\n",
       "      <td>0</td>\n",
       "      <td>Caucasian</td>\n",
       "      <td>Male</td>\n",
       "      <td>53.0</td>\n",
       "      <td>2012-03-07 09:51:00.0000000</td>\n",
       "      <td>2014-12-19 13:03:00</td>\n",
       "      <td>-960</td>\n",
       "    </tr>\n",
       "    <tr>\n",
       "      <th>3</th>\n",
       "      <td>234826139</td>\n",
       "      <td>40184</td>\n",
       "      <td>Hemoglobin A1C (Glycosylated Hemoglobin)</td>\n",
       "      <td>7.6</td>\n",
       "      <td>%</td>\n",
       "      <td>2012-05-02 16:44:00</td>\n",
       "      <td>0</td>\n",
       "      <td>Caucasian</td>\n",
       "      <td>Male</td>\n",
       "      <td>53.0</td>\n",
       "      <td>2012-03-07 09:51:00.0000000</td>\n",
       "      <td>2014-12-19 13:03:00</td>\n",
       "      <td>-960</td>\n",
       "    </tr>\n",
       "    <tr>\n",
       "      <th>4</th>\n",
       "      <td>241041726</td>\n",
       "      <td>40184</td>\n",
       "      <td>Hemoglobin A1C (Glycosylated Hemoglobin)</td>\n",
       "      <td>7.3</td>\n",
       "      <td>%</td>\n",
       "      <td>2012-05-29 15:27:00</td>\n",
       "      <td>0</td>\n",
       "      <td>Caucasian</td>\n",
       "      <td>Male</td>\n",
       "      <td>53.0</td>\n",
       "      <td>2012-05-07 13:00:00.0000000</td>\n",
       "      <td>2014-12-19 13:03:00</td>\n",
       "      <td>-933</td>\n",
       "    </tr>\n",
       "    <tr>\n",
       "      <th>...</th>\n",
       "      <td>...</td>\n",
       "      <td>...</td>\n",
       "      <td>...</td>\n",
       "      <td>...</td>\n",
       "      <td>...</td>\n",
       "      <td>...</td>\n",
       "      <td>...</td>\n",
       "      <td>...</td>\n",
       "      <td>...</td>\n",
       "      <td>...</td>\n",
       "      <td>...</td>\n",
       "      <td>...</td>\n",
       "      <td>...</td>\n",
       "    </tr>\n",
       "    <tr>\n",
       "      <th>33193</th>\n",
       "      <td>11678788</td>\n",
       "      <td>84691264</td>\n",
       "      <td>Hemoglobin A1C (Glycosylated Hemoglobin)</td>\n",
       "      <td>14.0</td>\n",
       "      <td>%</td>\n",
       "      <td>2009-04-05 20:43:00</td>\n",
       "      <td>0</td>\n",
       "      <td>Caucasian</td>\n",
       "      <td>Male</td>\n",
       "      <td>47.0</td>\n",
       "      <td>2009-03-07 19:57:00.0000000</td>\n",
       "      <td>2010-01-18 22:09:00</td>\n",
       "      <td>-288</td>\n",
       "    </tr>\n",
       "    <tr>\n",
       "      <th>33194</th>\n",
       "      <td>11678785</td>\n",
       "      <td>84691264</td>\n",
       "      <td>Hemoglobin A1C (Glycosylated Hemoglobin)</td>\n",
       "      <td>5.9</td>\n",
       "      <td>%</td>\n",
       "      <td>2009-04-08 21:18:00</td>\n",
       "      <td>0</td>\n",
       "      <td>Caucasian</td>\n",
       "      <td>Male</td>\n",
       "      <td>47.0</td>\n",
       "      <td>2009-09-15 19:51:00.0000000</td>\n",
       "      <td>2010-01-18 22:09:00</td>\n",
       "      <td>-285</td>\n",
       "    </tr>\n",
       "    <tr>\n",
       "      <th>33195</th>\n",
       "      <td>12919455</td>\n",
       "      <td>84691264</td>\n",
       "      <td>Hemoglobin A1C (Glycosylated Hemoglobin)</td>\n",
       "      <td>8.7</td>\n",
       "      <td>%</td>\n",
       "      <td>2009-06-11 22:25:00</td>\n",
       "      <td>0</td>\n",
       "      <td>Caucasian</td>\n",
       "      <td>Male</td>\n",
       "      <td>47.0</td>\n",
       "      <td>2009-05-14 00:00:00.0000000</td>\n",
       "      <td>2010-01-18 22:09:00</td>\n",
       "      <td>-220</td>\n",
       "    </tr>\n",
       "    <tr>\n",
       "      <th>33196</th>\n",
       "      <td>11678786</td>\n",
       "      <td>84691264</td>\n",
       "      <td>Hemoglobin A1C (Glycosylated Hemoglobin)</td>\n",
       "      <td>7.1</td>\n",
       "      <td>%</td>\n",
       "      <td>2009-09-30 22:40:00</td>\n",
       "      <td>0</td>\n",
       "      <td>Caucasian</td>\n",
       "      <td>Male</td>\n",
       "      <td>47.0</td>\n",
       "      <td>2009-09-02 00:25:00.0000000</td>\n",
       "      <td>2010-01-18 22:09:00</td>\n",
       "      <td>-109</td>\n",
       "    </tr>\n",
       "    <tr>\n",
       "      <th>33197</th>\n",
       "      <td>13853997</td>\n",
       "      <td>84691264</td>\n",
       "      <td>Hemoglobin A1C (Glycosylated Hemoglobin)</td>\n",
       "      <td>8.6</td>\n",
       "      <td>%</td>\n",
       "      <td>2010-01-18 22:09:00</td>\n",
       "      <td>1</td>\n",
       "      <td>Caucasian</td>\n",
       "      <td>Male</td>\n",
       "      <td>48.0</td>\n",
       "      <td>2009-12-16 13:07:00.0000000</td>\n",
       "      <td>2010-01-18 22:09:00</td>\n",
       "      <td>0</td>\n",
       "    </tr>\n",
       "  </tbody>\n",
       "</table>\n",
       "<p>33198 rows × 13 columns</p>\n",
       "</div>"
      ],
      "text/plain": [
       "       encounter_id patient_sk                        lab_procedure_name  \\\n",
       "0         234836515      40184  Hemoglobin A1C (Glycosylated Hemoglobin)   \n",
       "1         234836515      40184  Hemoglobin A1C (Glycosylated Hemoglobin)   \n",
       "2         234826139      40184  Hemoglobin A1C (Glycosylated Hemoglobin)   \n",
       "3         234826139      40184  Hemoglobin A1C (Glycosylated Hemoglobin)   \n",
       "4         241041726      40184  Hemoglobin A1C (Glycosylated Hemoglobin)   \n",
       "...             ...        ...                                       ...   \n",
       "33193      11678788   84691264  Hemoglobin A1C (Glycosylated Hemoglobin)   \n",
       "33194      11678785   84691264  Hemoglobin A1C (Glycosylated Hemoglobin)   \n",
       "33195      12919455   84691264  Hemoglobin A1C (Glycosylated Hemoglobin)   \n",
       "33196      11678786   84691264  Hemoglobin A1C (Glycosylated Hemoglobin)   \n",
       "33197      13853997   84691264  Hemoglobin A1C (Glycosylated Hemoglobin)   \n",
       "\n",
       "       numeric_result unit  lab_verified_dt_tm  dr_encounter       race  \\\n",
       "0                 8.2    % 2012-03-01 20:12:00             0  Caucasian   \n",
       "1                 8.2    % 2012-03-01 20:12:00             0  Caucasian   \n",
       "2                 7.6    % 2012-05-02 16:44:00             0  Caucasian   \n",
       "3                 7.6    % 2012-05-02 16:44:00             0  Caucasian   \n",
       "4                 7.3    % 2012-05-29 15:27:00             0  Caucasian   \n",
       "...               ...  ...                 ...           ...        ...   \n",
       "33193            14.0    % 2009-04-05 20:43:00             0  Caucasian   \n",
       "33194             5.9    % 2009-04-08 21:18:00             0  Caucasian   \n",
       "33195             8.7    % 2009-06-11 22:25:00             0  Caucasian   \n",
       "33196             7.1    % 2009-09-30 22:40:00             0  Caucasian   \n",
       "33197             8.6    % 2010-01-18 22:09:00             1  Caucasian   \n",
       "\n",
       "      gender  age_in_years               admitted_dt_tm           last_time  \\\n",
       "0       Male          52.0  2011-12-07 11:01:00.0000000 2014-12-19 13:03:00   \n",
       "1       Male          52.0  2011-12-07 11:01:00.0000000 2014-12-19 13:03:00   \n",
       "2       Male          53.0  2012-03-07 09:51:00.0000000 2014-12-19 13:03:00   \n",
       "3       Male          53.0  2012-03-07 09:51:00.0000000 2014-12-19 13:03:00   \n",
       "4       Male          53.0  2012-05-07 13:00:00.0000000 2014-12-19 13:03:00   \n",
       "...      ...           ...                          ...                 ...   \n",
       "33193   Male          47.0  2009-03-07 19:57:00.0000000 2010-01-18 22:09:00   \n",
       "33194   Male          47.0  2009-09-15 19:51:00.0000000 2010-01-18 22:09:00   \n",
       "33195   Male          47.0  2009-05-14 00:00:00.0000000 2010-01-18 22:09:00   \n",
       "33196   Male          47.0  2009-09-02 00:25:00.0000000 2010-01-18 22:09:00   \n",
       "33197   Male          48.0  2009-12-16 13:07:00.0000000 2010-01-18 22:09:00   \n",
       "\n",
       "       time_diff  \n",
       "0          -1022  \n",
       "1          -1022  \n",
       "2           -960  \n",
       "3           -960  \n",
       "4           -933  \n",
       "...          ...  \n",
       "33193       -288  \n",
       "33194       -285  \n",
       "33195       -220  \n",
       "33196       -109  \n",
       "33197          0  \n",
       "\n",
       "[33198 rows x 13 columns]"
      ]
     },
     "execution_count": 82,
     "metadata": {},
     "output_type": "execute_result"
    }
   ],
   "source": [
    "df_HbA1C_final"
   ]
  },
  {
   "cell_type": "code",
   "execution_count": 83,
   "id": "80a72dc2",
   "metadata": {},
   "outputs": [
    {
     "data": {
      "text/html": [
       "<div>\n",
       "<style scoped>\n",
       "    .dataframe tbody tr th:only-of-type {\n",
       "        vertical-align: middle;\n",
       "    }\n",
       "\n",
       "    .dataframe tbody tr th {\n",
       "        vertical-align: top;\n",
       "    }\n",
       "\n",
       "    .dataframe thead th {\n",
       "        text-align: right;\n",
       "    }\n",
       "</style>\n",
       "<table border=\"1\" class=\"dataframe\">\n",
       "  <thead>\n",
       "    <tr style=\"text-align: right;\">\n",
       "      <th></th>\n",
       "      <th>encounter_id</th>\n",
       "      <th>patient_sk</th>\n",
       "      <th>lab_procedure_name</th>\n",
       "      <th>unit</th>\n",
       "      <th>lab_verified_dt_tm</th>\n",
       "      <th>dr_encounter</th>\n",
       "      <th>race</th>\n",
       "      <th>gender</th>\n",
       "      <th>age_in_years</th>\n",
       "      <th>admitted_dt_tm</th>\n",
       "      <th>numeric_result</th>\n",
       "      <th>last_time</th>\n",
       "      <th>time_diff</th>\n",
       "    </tr>\n",
       "  </thead>\n",
       "  <tbody>\n",
       "    <tr>\n",
       "      <th>0</th>\n",
       "      <td>242007621</td>\n",
       "      <td>40184</td>\n",
       "      <td>Creatinine, Serum Quantitative</td>\n",
       "      <td>mg/dL</td>\n",
       "      <td>2011-04-18 15:25:00</td>\n",
       "      <td>0</td>\n",
       "      <td>Caucasian</td>\n",
       "      <td>Male</td>\n",
       "      <td>52.0</td>\n",
       "      <td>2011-09-23 08:41:00.0000000</td>\n",
       "      <td>0.70</td>\n",
       "      <td>2014-12-19 10:19:00</td>\n",
       "      <td>-1340</td>\n",
       "    </tr>\n",
       "    <tr>\n",
       "      <th>1</th>\n",
       "      <td>234836515</td>\n",
       "      <td>40184</td>\n",
       "      <td>Creatinine, Serum Quantitative</td>\n",
       "      <td>mg/dL</td>\n",
       "      <td>2012-03-01 20:02:00</td>\n",
       "      <td>0</td>\n",
       "      <td>Caucasian</td>\n",
       "      <td>Male</td>\n",
       "      <td>52.0</td>\n",
       "      <td>2011-12-07 11:01:00.0000000</td>\n",
       "      <td>1.70</td>\n",
       "      <td>2014-12-19 10:19:00</td>\n",
       "      <td>-1022</td>\n",
       "    </tr>\n",
       "    <tr>\n",
       "      <th>2</th>\n",
       "      <td>241488258</td>\n",
       "      <td>40184</td>\n",
       "      <td>Creatinine, Serum Quantitative</td>\n",
       "      <td>mg/dL</td>\n",
       "      <td>2012-03-13 08:22:00</td>\n",
       "      <td>0</td>\n",
       "      <td>Caucasian</td>\n",
       "      <td>Male</td>\n",
       "      <td>53.0</td>\n",
       "      <td>2012-03-13 06:13:00.0000000</td>\n",
       "      <td>1.60</td>\n",
       "      <td>2014-12-19 10:19:00</td>\n",
       "      <td>-1011</td>\n",
       "    </tr>\n",
       "    <tr>\n",
       "      <th>3</th>\n",
       "      <td>242047104</td>\n",
       "      <td>40184</td>\n",
       "      <td>Creatinine, Serum Quantitative</td>\n",
       "      <td>mg/dL</td>\n",
       "      <td>2012-03-24 00:11:00</td>\n",
       "      <td>0</td>\n",
       "      <td>Caucasian</td>\n",
       "      <td>Male</td>\n",
       "      <td>52.0</td>\n",
       "      <td>2011-09-21 11:28:00.0000000</td>\n",
       "      <td>0.90</td>\n",
       "      <td>2014-12-19 10:19:00</td>\n",
       "      <td>-1000</td>\n",
       "    </tr>\n",
       "    <tr>\n",
       "      <th>4</th>\n",
       "      <td>241110926</td>\n",
       "      <td>40184</td>\n",
       "      <td>Creatinine, Serum Quantitative</td>\n",
       "      <td>mg/dL</td>\n",
       "      <td>2012-04-13 08:49:00</td>\n",
       "      <td>0</td>\n",
       "      <td>Caucasian</td>\n",
       "      <td>Male</td>\n",
       "      <td>53.0</td>\n",
       "      <td>2012-04-05 08:59:00.0000000</td>\n",
       "      <td>2.20</td>\n",
       "      <td>2014-12-19 10:19:00</td>\n",
       "      <td>-980</td>\n",
       "    </tr>\n",
       "    <tr>\n",
       "      <th>...</th>\n",
       "      <td>...</td>\n",
       "      <td>...</td>\n",
       "      <td>...</td>\n",
       "      <td>...</td>\n",
       "      <td>...</td>\n",
       "      <td>...</td>\n",
       "      <td>...</td>\n",
       "      <td>...</td>\n",
       "      <td>...</td>\n",
       "      <td>...</td>\n",
       "      <td>...</td>\n",
       "      <td>...</td>\n",
       "      <td>...</td>\n",
       "    </tr>\n",
       "    <tr>\n",
       "      <th>145525</th>\n",
       "      <td>445096412</td>\n",
       "      <td>104656321</td>\n",
       "      <td>Creatinine, Serum Quantitative</td>\n",
       "      <td>mg/dL</td>\n",
       "      <td>2015-06-22 04:38:00</td>\n",
       "      <td>1</td>\n",
       "      <td>Caucasian</td>\n",
       "      <td>Male</td>\n",
       "      <td>48.0</td>\n",
       "      <td>2015-06-15 12:47:00.0000000</td>\n",
       "      <td>5.00</td>\n",
       "      <td>2015-06-22 04:38:00</td>\n",
       "      <td>0</td>\n",
       "    </tr>\n",
       "    <tr>\n",
       "      <th>145526</th>\n",
       "      <td>444412882</td>\n",
       "      <td>104700366</td>\n",
       "      <td>Creatinine, Serum Quantitative</td>\n",
       "      <td>mg/dL</td>\n",
       "      <td>2015-04-02 05:38:00</td>\n",
       "      <td>0</td>\n",
       "      <td>African American</td>\n",
       "      <td>Female</td>\n",
       "      <td>53.0</td>\n",
       "      <td>2015-03-30 01:10:00.0000000</td>\n",
       "      <td>3.29</td>\n",
       "      <td>2015-06-22 03:37:00</td>\n",
       "      <td>-80</td>\n",
       "    </tr>\n",
       "    <tr>\n",
       "      <th>145527</th>\n",
       "      <td>444676159</td>\n",
       "      <td>104700366</td>\n",
       "      <td>Creatinine, Serum Quantitative</td>\n",
       "      <td>mg/dL</td>\n",
       "      <td>2015-04-15 04:49:00</td>\n",
       "      <td>0</td>\n",
       "      <td>African American</td>\n",
       "      <td>Female</td>\n",
       "      <td>53.0</td>\n",
       "      <td>2015-04-08 19:26:00.0000000</td>\n",
       "      <td>2.27</td>\n",
       "      <td>2015-06-22 03:37:00</td>\n",
       "      <td>-67</td>\n",
       "    </tr>\n",
       "    <tr>\n",
       "      <th>145528</th>\n",
       "      <td>444820403</td>\n",
       "      <td>104700366</td>\n",
       "      <td>Creatinine, Serum Quantitative</td>\n",
       "      <td>mg/dL</td>\n",
       "      <td>2015-05-15 13:32:00</td>\n",
       "      <td>0</td>\n",
       "      <td>Caucasian</td>\n",
       "      <td>Female</td>\n",
       "      <td>53.0</td>\n",
       "      <td>2015-05-15 12:53:00.0000000</td>\n",
       "      <td>2.69</td>\n",
       "      <td>2015-06-22 03:37:00</td>\n",
       "      <td>-37</td>\n",
       "    </tr>\n",
       "    <tr>\n",
       "      <th>145529</th>\n",
       "      <td>445096136</td>\n",
       "      <td>104700366</td>\n",
       "      <td>Creatinine, Serum Quantitative</td>\n",
       "      <td>mg/dL</td>\n",
       "      <td>2015-06-22 03:37:00</td>\n",
       "      <td>1</td>\n",
       "      <td>African American</td>\n",
       "      <td>Female</td>\n",
       "      <td>53.0</td>\n",
       "      <td>2015-06-21 00:15:00.0000000</td>\n",
       "      <td>2.50</td>\n",
       "      <td>2015-06-22 03:37:00</td>\n",
       "      <td>0</td>\n",
       "    </tr>\n",
       "  </tbody>\n",
       "</table>\n",
       "<p>145530 rows × 13 columns</p>\n",
       "</div>"
      ],
      "text/plain": [
       "        encounter_id patient_sk              lab_procedure_name   unit  \\\n",
       "0          242007621      40184  Creatinine, Serum Quantitative  mg/dL   \n",
       "1          234836515      40184  Creatinine, Serum Quantitative  mg/dL   \n",
       "2          241488258      40184  Creatinine, Serum Quantitative  mg/dL   \n",
       "3          242047104      40184  Creatinine, Serum Quantitative  mg/dL   \n",
       "4          241110926      40184  Creatinine, Serum Quantitative  mg/dL   \n",
       "...              ...        ...                             ...    ...   \n",
       "145525     445096412  104656321  Creatinine, Serum Quantitative  mg/dL   \n",
       "145526     444412882  104700366  Creatinine, Serum Quantitative  mg/dL   \n",
       "145527     444676159  104700366  Creatinine, Serum Quantitative  mg/dL   \n",
       "145528     444820403  104700366  Creatinine, Serum Quantitative  mg/dL   \n",
       "145529     445096136  104700366  Creatinine, Serum Quantitative  mg/dL   \n",
       "\n",
       "        lab_verified_dt_tm  dr_encounter              race  gender  \\\n",
       "0      2011-04-18 15:25:00             0         Caucasian    Male   \n",
       "1      2012-03-01 20:02:00             0         Caucasian    Male   \n",
       "2      2012-03-13 08:22:00             0         Caucasian    Male   \n",
       "3      2012-03-24 00:11:00             0         Caucasian    Male   \n",
       "4      2012-04-13 08:49:00             0         Caucasian    Male   \n",
       "...                    ...           ...               ...     ...   \n",
       "145525 2015-06-22 04:38:00             1         Caucasian    Male   \n",
       "145526 2015-04-02 05:38:00             0  African American  Female   \n",
       "145527 2015-04-15 04:49:00             0  African American  Female   \n",
       "145528 2015-05-15 13:32:00             0         Caucasian  Female   \n",
       "145529 2015-06-22 03:37:00             1  African American  Female   \n",
       "\n",
       "        age_in_years               admitted_dt_tm  numeric_result  \\\n",
       "0               52.0  2011-09-23 08:41:00.0000000            0.70   \n",
       "1               52.0  2011-12-07 11:01:00.0000000            1.70   \n",
       "2               53.0  2012-03-13 06:13:00.0000000            1.60   \n",
       "3               52.0  2011-09-21 11:28:00.0000000            0.90   \n",
       "4               53.0  2012-04-05 08:59:00.0000000            2.20   \n",
       "...              ...                          ...             ...   \n",
       "145525          48.0  2015-06-15 12:47:00.0000000            5.00   \n",
       "145526          53.0  2015-03-30 01:10:00.0000000            3.29   \n",
       "145527          53.0  2015-04-08 19:26:00.0000000            2.27   \n",
       "145528          53.0  2015-05-15 12:53:00.0000000            2.69   \n",
       "145529          53.0  2015-06-21 00:15:00.0000000            2.50   \n",
       "\n",
       "                 last_time  time_diff  \n",
       "0      2014-12-19 10:19:00      -1340  \n",
       "1      2014-12-19 10:19:00      -1022  \n",
       "2      2014-12-19 10:19:00      -1011  \n",
       "3      2014-12-19 10:19:00      -1000  \n",
       "4      2014-12-19 10:19:00       -980  \n",
       "...                    ...        ...  \n",
       "145525 2015-06-22 04:38:00          0  \n",
       "145526 2015-06-22 03:37:00        -80  \n",
       "145527 2015-06-22 03:37:00        -67  \n",
       "145528 2015-06-22 03:37:00        -37  \n",
       "145529 2015-06-22 03:37:00          0  \n",
       "\n",
       "[145530 rows x 13 columns]"
      ]
     },
     "execution_count": 83,
     "metadata": {},
     "output_type": "execute_result"
    }
   ],
   "source": [
    "df_creat_final"
   ]
  },
  {
   "cell_type": "markdown",
   "id": "4529d7be",
   "metadata": {},
   "source": [
    "# White Blood Cell Count"
   ]
  },
  {
   "cell_type": "code",
   "execution_count": 72,
   "id": "6f956fd9",
   "metadata": {},
   "outputs": [],
   "source": [
    "dr_wbc=dr[dr[\"lab_procedure_name\"]=='White Blood Cell Count']\n",
    "dr_wbc=dr_wbc.sort_values(by=['patient_sk','lab_verified_dt_tm']).dropna()"
   ]
  },
  {
   "cell_type": "code",
   "execution_count": 73,
   "id": "5f7443c4",
   "metadata": {},
   "outputs": [
    {
     "data": {
      "text/plain": [
       "array(['10*3', '10*3/uL', '/mm3', 'Not Mapped', 'K/mm3', '10*9', '[HPF]',\n",
       "       '/uL', 'U/L', '10*9/L', 'K/mcL dup', 'm', 'mm3', 'kg', 'nL',\n",
       "       '{Cells}', '/L', 'KLK units/mL', '10*6/uL'], dtype=object)"
      ]
     },
     "execution_count": 73,
     "metadata": {},
     "output_type": "execute_result"
    }
   ],
   "source": [
    "dr_wbc.unit.unique()"
   ]
  },
  {
   "cell_type": "code",
   "execution_count": 92,
   "id": "12eedf2b",
   "metadata": {},
   "outputs": [],
   "source": [
    "dr_wbc=dr_wbc[dr_wbc.unit.isin(['10*3','10*3/uL','/mm3','K/mm3','10*9','10*9/L','K/mcL dup','K/mm3'])]"
   ]
  },
  {
   "cell_type": "code",
   "execution_count": 93,
   "id": "780945f8",
   "metadata": {},
   "outputs": [
    {
     "data": {
      "text/html": [
       "<div>\n",
       "<style scoped>\n",
       "    .dataframe tbody tr th:only-of-type {\n",
       "        vertical-align: middle;\n",
       "    }\n",
       "\n",
       "    .dataframe tbody tr th {\n",
       "        vertical-align: top;\n",
       "    }\n",
       "\n",
       "    .dataframe thead th {\n",
       "        text-align: right;\n",
       "    }\n",
       "</style>\n",
       "<table border=\"1\" class=\"dataframe\">\n",
       "  <thead>\n",
       "    <tr style=\"text-align: right;\">\n",
       "      <th></th>\n",
       "      <th>encounter_id</th>\n",
       "      <th>patient_sk</th>\n",
       "      <th>lab_procedure_name</th>\n",
       "      <th>numeric_result</th>\n",
       "      <th>lab_verified_dt_tm</th>\n",
       "      <th>dr_encounter</th>\n",
       "      <th>race</th>\n",
       "      <th>gender</th>\n",
       "      <th>age_in_years</th>\n",
       "      <th>admitted_dt_tm</th>\n",
       "    </tr>\n",
       "    <tr>\n",
       "      <th>unit</th>\n",
       "      <th></th>\n",
       "      <th></th>\n",
       "      <th></th>\n",
       "      <th></th>\n",
       "      <th></th>\n",
       "      <th></th>\n",
       "      <th></th>\n",
       "      <th></th>\n",
       "      <th></th>\n",
       "      <th></th>\n",
       "    </tr>\n",
       "  </thead>\n",
       "  <tbody>\n",
       "    <tr>\n",
       "      <th>/mm3</th>\n",
       "      <td>40845</td>\n",
       "      <td>40845</td>\n",
       "      <td>40845</td>\n",
       "      <td>40845</td>\n",
       "      <td>40845</td>\n",
       "      <td>40845</td>\n",
       "      <td>40845</td>\n",
       "      <td>40845</td>\n",
       "      <td>40845</td>\n",
       "      <td>40845</td>\n",
       "    </tr>\n",
       "    <tr>\n",
       "      <th>10*3</th>\n",
       "      <td>206790</td>\n",
       "      <td>206790</td>\n",
       "      <td>206790</td>\n",
       "      <td>206790</td>\n",
       "      <td>206790</td>\n",
       "      <td>206790</td>\n",
       "      <td>206790</td>\n",
       "      <td>206790</td>\n",
       "      <td>206790</td>\n",
       "      <td>206790</td>\n",
       "    </tr>\n",
       "    <tr>\n",
       "      <th>10*3/uL</th>\n",
       "      <td>222671</td>\n",
       "      <td>222671</td>\n",
       "      <td>222671</td>\n",
       "      <td>222671</td>\n",
       "      <td>222671</td>\n",
       "      <td>222671</td>\n",
       "      <td>222671</td>\n",
       "      <td>222671</td>\n",
       "      <td>222671</td>\n",
       "      <td>222671</td>\n",
       "    </tr>\n",
       "    <tr>\n",
       "      <th>10*9</th>\n",
       "      <td>89845</td>\n",
       "      <td>89845</td>\n",
       "      <td>89845</td>\n",
       "      <td>89845</td>\n",
       "      <td>89845</td>\n",
       "      <td>89845</td>\n",
       "      <td>89845</td>\n",
       "      <td>89845</td>\n",
       "      <td>89845</td>\n",
       "      <td>89845</td>\n",
       "    </tr>\n",
       "    <tr>\n",
       "      <th>10*9/L</th>\n",
       "      <td>58144</td>\n",
       "      <td>58144</td>\n",
       "      <td>58144</td>\n",
       "      <td>58144</td>\n",
       "      <td>58144</td>\n",
       "      <td>58144</td>\n",
       "      <td>58144</td>\n",
       "      <td>58144</td>\n",
       "      <td>58144</td>\n",
       "      <td>58144</td>\n",
       "    </tr>\n",
       "    <tr>\n",
       "      <th>K/mcL dup</th>\n",
       "      <td>71940</td>\n",
       "      <td>71940</td>\n",
       "      <td>71940</td>\n",
       "      <td>71940</td>\n",
       "      <td>71940</td>\n",
       "      <td>71940</td>\n",
       "      <td>71940</td>\n",
       "      <td>71940</td>\n",
       "      <td>71940</td>\n",
       "      <td>71940</td>\n",
       "    </tr>\n",
       "    <tr>\n",
       "      <th>K/mm3</th>\n",
       "      <td>136818</td>\n",
       "      <td>136818</td>\n",
       "      <td>136818</td>\n",
       "      <td>136818</td>\n",
       "      <td>136818</td>\n",
       "      <td>136818</td>\n",
       "      <td>136818</td>\n",
       "      <td>136818</td>\n",
       "      <td>136818</td>\n",
       "      <td>136818</td>\n",
       "    </tr>\n",
       "  </tbody>\n",
       "</table>\n",
       "</div>"
      ],
      "text/plain": [
       "           encounter_id  patient_sk  lab_procedure_name  numeric_result  \\\n",
       "unit                                                                      \n",
       "/mm3              40845       40845               40845           40845   \n",
       "10*3             206790      206790              206790          206790   \n",
       "10*3/uL          222671      222671              222671          222671   \n",
       "10*9              89845       89845               89845           89845   \n",
       "10*9/L            58144       58144               58144           58144   \n",
       "K/mcL dup         71940       71940               71940           71940   \n",
       "K/mm3            136818      136818              136818          136818   \n",
       "\n",
       "           lab_verified_dt_tm  dr_encounter    race  gender  age_in_years  \\\n",
       "unit                                                                        \n",
       "/mm3                    40845         40845   40845   40845         40845   \n",
       "10*3                   206790        206790  206790  206790        206790   \n",
       "10*3/uL                222671        222671  222671  222671        222671   \n",
       "10*9                    89845         89845   89845   89845         89845   \n",
       "10*9/L                  58144         58144   58144   58144         58144   \n",
       "K/mcL dup               71940         71940   71940   71940         71940   \n",
       "K/mm3                  136818        136818  136818  136818        136818   \n",
       "\n",
       "           admitted_dt_tm  \n",
       "unit                       \n",
       "/mm3                40845  \n",
       "10*3               206790  \n",
       "10*3/uL            222671  \n",
       "10*9                89845  \n",
       "10*9/L              58144  \n",
       "K/mcL dup           71940  \n",
       "K/mm3              136818  "
      ]
     },
     "execution_count": 93,
     "metadata": {},
     "output_type": "execute_result"
    }
   ],
   "source": [
    "dr_wbc.groupby('unit').count()"
   ]
  },
  {
   "cell_type": "code",
   "execution_count": 94,
   "id": "7a728c46",
   "metadata": {},
   "outputs": [],
   "source": [
    "dr_wbc_prep=dr_wbc.groupby(\"encounter_id\").first().sort_values(by=['patient_sk','lab_verified_dt_tm']).reset_index()\n",
    "dr_wbc_mean=dr_wbc.groupby('encounter_id').mean()\n",
    "dr_wbc_final=dr_wbc_prep.merge(dr_wbc_mean,how='left',on='encounter_id').drop(columns=['numeric_result_x','patient_sk_y','dr_encounter_y','age_in_years_y'])\n",
    "dr_wbc_final.rename(columns={'patient_sk_x':'patient_sk','dr_encounter_x':'dr_encounter','age_in_years_x':'age_in_years','numeric_result_y':'numeric_result'},inplace=True)"
   ]
  },
  {
   "cell_type": "code",
   "execution_count": 95,
   "id": "d6791253",
   "metadata": {},
   "outputs": [],
   "source": [
    "df_wbc=pd.DataFrame()\n",
    "for key in dr_wbc.patient_sk.unique():\n",
    "    if ((len(dr_wbc[dr_wbc.patient_sk==key].encounter_id.unique())>=3) and (dr_wbc[dr_wbc.patient_sk==key].dr_encounter.sum()>0)) :\n",
    "        en_id=dr_wbc[(dr_wbc.patient_sk==key)&(dr_wbc.dr_encounter==True)].iloc[0][\"encounter_id\"]\n",
    "        time=dr_wbc[dr_wbc.encounter_id==en_id].lab_verified_dt_tm.max()\n",
    "        df_patient=dr_wbc[(dr_wbc.patient_sk==key)&(dr_wbc.lab_verified_dt_tm<=time)]\n",
    "        df_wbc=df_wbc.append(df_patient,ignore_index=True)"
   ]
  },
  {
   "cell_type": "code",
   "execution_count": 98,
   "id": "fca0c454",
   "metadata": {},
   "outputs": [],
   "source": [
    "countdf =df_wbc.groupby('patient_sk').count()\n",
    "df_wbc_final = df_wbc.loc[df_wbc['patient_sk'].isin(countdf[countdf['encounter_id'] > 3].index)]"
   ]
  },
  {
   "cell_type": "code",
   "execution_count": 99,
   "id": "03c30018",
   "metadata": {},
   "outputs": [],
   "source": [
    "df_wbc_final=df_wbc_final.reset_index()\n",
    "df_wbc_lt=df_wbc_final.groupby('patient_sk').lab_verified_dt_tm.max().reset_index()\n",
    "df_wbc_lt=df_wbc_lt.rename(columns={'lab_verified_dt_tm':'last_time'})\n",
    "df_wbc_merge=df_wbc_final.merge(df_wbc_lt,how='left',on='patient_sk')\n",
    "df_wbc_final=df_wbc_merge.drop(columns='index')"
   ]
  },
  {
   "cell_type": "code",
   "execution_count": 100,
   "id": "2dec7fed",
   "metadata": {},
   "outputs": [],
   "source": [
    "df_wbc_final['lab_verified_dt_tm']=pd.to_datetime(df_wbc_final['lab_verified_dt_tm'])\n",
    "df_wbc_final['last_time']=pd.to_datetime(df_wbc_final['last_time'])\n",
    "df_wbc_final['time_diff']=-(df_wbc_final['last_time']-df_wbc_final['lab_verified_dt_tm']).dt.days\n",
    "df_wbc_final['patient_sk']=df_wbc_final.patient_sk.astype(str)"
   ]
  },
  {
   "cell_type": "code",
   "execution_count": 101,
   "id": "349cc914",
   "metadata": {},
   "outputs": [
    {
     "data": {
      "text/plain": [
       "<AxesSubplot:xlabel='time_diff', ylabel='numeric_result'>"
      ]
     },
     "execution_count": 101,
     "metadata": {},
     "output_type": "execute_result"
    },
    {
     "data": {
      "image/png": "[encoded data removed]",
      "text/plain": [
       "<Figure size 432x288 with 1 Axes>"
      ]
     },
     "metadata": {
      "needs_background": "light"
     },
     "output_type": "display_data"
    }
   ],
   "source": [
    "sns.scatterplot(data=df_wbc_final,x=\"time_diff\", y=\"numeric_result\")"
   ]
  },
  {
   "cell_type": "code",
   "execution_count": 102,
   "id": "7592dc59",
   "metadata": {},
   "outputs": [
    {
     "data": {
      "text/plain": [
       "<seaborn.axisgrid.FacetGrid at 0x7f77c4fea130>"
      ]
     },
     "execution_count": 102,
     "metadata": {},
     "output_type": "execute_result"
    },
    {
     "data": {
      "image/png": "[encoded data removed]",
      "text/plain": [
       "<Figure size 360x360 with 1 Axes>"
      ]
     },
     "metadata": {
      "needs_background": "light"
     },
     "output_type": "display_data"
    }
   ],
   "source": [
    "g3=sns.lmplot(data=df_wbc_final,x=\"time_diff\", y=\"numeric_result\",lowess=True,line_kws={\"color\":\"red\"})\n",
    "g3.set(ylim=(0,100),xlim=(-1000,0))"
   ]
  },
  {
   "cell_type": "markdown",
   "id": "2fb9e90e",
   "metadata": {},
   "source": [
    "# Glucose"
   ]
  },
  {
   "cell_type": "code",
   "execution_count": 104,
   "id": "c148e815",
   "metadata": {},
   "outputs": [],
   "source": [
    "dr_glucose=dr[dr['lab_procedure_name']=='Glucose, Serum/Plasma Quantitative'].sort_values(by=['patient_sk','lab_verified_dt_tm']).dropna()\n",
    "dr_glucose=dr_glucose[dr_glucose['unit']=='mg/dL']"
   ]
  },
  {
   "cell_type": "code",
   "execution_count": 105,
   "id": "8f05f9b2",
   "metadata": {},
   "outputs": [],
   "source": [
    "dr_glucose_prep=dr_glucose.groupby(\"encounter_id\").first().sort_values(by=['patient_sk','lab_verified_dt_tm']).reset_index()\n",
    "dr_glucose_mean=dr_glucose.groupby('encounter_id').mean()\n",
    "dr_glucose_final=dr_glucose_prep.merge(dr_glucose_mean,how='left',on='encounter_id').drop(columns=['numeric_result_x','patient_sk_y','dr_encounter_y','age_in_years_y'])\n",
    "dr_glucose_final.rename(columns={'patient_sk_x':'patient_sk','dr_encounter_x':'dr_encounter','age_in_years_x':'age_in_years','numeric_result_y':'numeric_result'},inplace=True)"
   ]
  },
  {
   "cell_type": "code",
   "execution_count": null,
   "id": "09c52c65",
   "metadata": {},
   "outputs": [],
   "source": [
    "df_glucose=pd.DataFrame()\n",
    "for key in dr_glucose.patient_sk.unique():\n",
    "    if ((len(dr_glucose[dr_glucose.patient_sk==key].encounter_id.unique())>=3) and (dr_glucose[dr_glucose.patient_sk==key].dr_encounter.sum()>0)) :\n",
    "        en_id=dr_glucose[(dr_glucose.patient_sk==key)&(dr_glucose.dr_encounter==True)].iloc[0][\"encounter_id\"]\n",
    "        time=dr_glucose[dr_glucose.encounter_id==en_id].lab_verified_dt_tm.max()\n",
    "        df_patient=dr_glucose[(dr_glucose.patient_sk==key)&(dr_glucose.lab_verified_dt_tm<=time)]\n",
    "        df_glucose=df_glucose.append(df_patient,ignore_index=True)"
   ]
  },
  {
   "cell_type": "code",
   "execution_count": null,
   "id": "f8b1097b",
   "metadata": {},
   "outputs": [],
   "source": [
    "countdf =df_glucose.groupby('patient_sk').count()\n",
    "df_glucose_final = df_glucose.loc[df_glucose['patient_sk'].isin(countdf[countdf['encounter_id'] > 3].index)]"
   ]
  },
  {
   "cell_type": "code",
   "execution_count": null,
   "id": "45d7b66b",
   "metadata": {},
   "outputs": [],
   "source": [
    "df_wbc_final=df_wbc_final.reset_index()\n",
    "df_wbc_lt=df_wbc_final.groupby('patient_sk').lab_verified_dt_tm.max().reset_index()\n",
    "df_wbc_lt=df_wbc_lt.rename(columns={'lab_verified_dt_tm':'last_time'})\n",
    "df_wbc_merge=df_wbc_final.merge(df_wbc_lt,how='left',on='patient_sk')\n",
    "df_wbc_final=df_wbc_merge.drop(columns='index')"
   ]
  },
  {
   "cell_type": "code",
   "execution_count": null,
   "id": "066bf6c0",
   "metadata": {},
   "outputs": [],
   "source": [
    "df_glucose_final['lab_verified_dt_tm']=pd.to_datetime(df_glucose_final['lab_verified_dt_tm'])\n",
    "df_glucose_final['last_time']=pd.to_datetime(df_glucose_final['last_time'])\n",
    "df_glucose_final['time_diff']=-(df_glucose_final['last_time']-df_glucose_final['lab_verified_dt_tm']).dt.days\n",
    "df_glucose_final['patient_sk']=df_glucose_final.patient_sk.astype(str)"
   ]
  },
  {
   "cell_type": "code",
   "execution_count": null,
   "id": "28a58b46",
   "metadata": {},
   "outputs": [],
   "source": [
    "sns.scatterplot(data=df_glucose_final,x=\"time_diff\", y=\"numeric_result\")"
   ]
  },
  {
   "cell_type": "code",
   "execution_count": 175,
   "id": "949c5794",
   "metadata": {},
   "outputs": [
    {
     "data": {
      "text/plain": [
       "<seaborn.axisgrid.FacetGrid at 0x7fc1a3d1a790>"
      ]
     },
     "execution_count": 175,
     "metadata": {},
     "output_type": "execute_result"
    },
    {
     "data": {
      "image/png": "[encoded data removed]",
      "text/plain": [
       "<Figure size 360x360 with 1 Axes>"
      ]
     },
     "metadata": {
      "needs_background": "light"
     },
     "output_type": "display_data"
    }
   ],
   "source": [
    "sns.lmplot(data=df_glucose_final,x=\"time_diff\", y=\"numeric_result\",lowess=True,line_kws={\"color\":\"red\"})"
   ]
  },
  {
   "cell_type": "code",
   "execution_count": 204,
   "id": "eff9d412",
   "metadata": {},
   "outputs": [],
   "source": [
    "df_creat_final.to_csv('df_creat_final.csv')"
   ]
  },
  {
   "cell_type": "code",
   "execution_count": 184,
   "id": "ac145f73",
   "metadata": {},
   "outputs": [],
   "source": [
    "patient_int=list(set(df_creat_final.patient_sk.unique())&set(df_HbA1C_final.patient_sk.unique())&set(df_wbc_final.patient_sk.unique())&set(df_glucose_final.patient_sk.unique()))"
   ]
  }
 ],
 "metadata": {
  "kernelspec": {
   "display_name": "Python 3 (ipykernel)",
   "language": "python",
   "name": "python3"
  },
  "language_info": {
   "codemirror_mode": {
    "name": "ipython",
    "version": 3
   },
   "file_extension": ".py",
   "mimetype": "text/x-python",
   "name": "python",
   "nbconvert_exporter": "python",
   "pygments_lexer": "ipython3",
   "version": "3.8.8"
  }
 },
 "nbformat": 4,
 "nbformat_minor": 5
}
